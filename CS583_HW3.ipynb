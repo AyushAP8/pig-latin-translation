{
 "cells": [
  {
   "cell_type": "code",
   "execution_count": 59,
   "id": "vietnamese-permission",
   "metadata": {},
   "outputs": [],
   "source": [
    "\n",
    "import matplotlib.pyplot as plt\n",
    "import numpy as np\n",
    "import tensorflow\n",
    "from sklearn.model_selection import train_test_split\n",
    "from sklearn.metrics import accuracy_score\n",
    "from tensorflow.keras.models import Sequential, Model\n",
    "from tensorflow.keras.layers import Input, LSTM, Dense, Embedding, SimpleRNN, Flatten\n",
    "from tensorflow.keras.preprocessing import sequence\n",
    "import tensorflow.keras.callbacks as CallB\n",
    "from tensorflow.keras.utils import plot_model\n",
    "from collections import defaultdict"
   ]
  },
  {
   "cell_type": "markdown",
   "id": "yellow-theorem",
   "metadata": {},
   "source": [
    "input dim = len of vocab = 29\n",
    "output dim = size of embedding vector = 10\n",
    "input len = len of your seq = len of word?"
   ]
  },
  {
   "cell_type": "code",
   "execution_count": 60,
   "id": "flush-clock",
   "metadata": {},
   "outputs": [
    {
     "name": "stdout",
     "output_type": "stream",
     "text": [
      "                                0                                    1\n",
      "0         a p p r e h e n s i v e        a p p r e h e n s i v e w a y\n",
      "1           d e s p e r a t e l y            e s p e r a t e l y d a y\n",
      "2                         g r e w                          e w g r a y\n",
      "3               n i g g a r d l y                i g g a r d l y n a y\n",
      "4                   b r o u g h t                    o u g h t b r a y\n",
      "...                           ...                                  ...\n",
      "6506        c o m p u n c t i o n            o m p u n c t i o n c a y\n",
      "6507          i n c i t e m e n t            i n c i t e m e n t w a y\n",
      "6508            i m m e d i a t e              i m m e d i a t e w a y\n",
      "6509  s o u t h - w e s t e r l y  o u t h s a y - e s t e r l y w a y\n",
      "6510        c o n n e c t i o n s            o n n e c t i o n s c a y\n",
      "\n",
      "[6511 rows x 2 columns]\n"
     ]
    }
   ],
   "source": [
    "import pandas as pd\n",
    "df = pd.read_csv('data.txt', sep=\" \",header=None)\n",
    "odf = df\n",
    "\n",
    "\n",
    "df[0] = df[0].astype(str).apply(lambda x:\" \".join(list(x)))\n",
    "df[1] = df[1].astype(str).apply(lambda x:\" \".join(list(x)))\n",
    "\n",
    "print(df)"
   ]
  },
  {
   "cell_type": "code",
   "execution_count": 61,
   "id": "nominated-secretariat",
   "metadata": {},
   "outputs": [
    {
     "data": {
      "text/html": [
       "<div>\n",
       "<style scoped>\n",
       "    .dataframe tbody tr th:only-of-type {\n",
       "        vertical-align: middle;\n",
       "    }\n",
       "\n",
       "    .dataframe tbody tr th {\n",
       "        vertical-align: top;\n",
       "    }\n",
       "\n",
       "    .dataframe thead th {\n",
       "        text-align: right;\n",
       "    }\n",
       "</style>\n",
       "<table border=\"1\" class=\"dataframe\">\n",
       "  <thead>\n",
       "    <tr style=\"text-align: right;\">\n",
       "      <th></th>\n",
       "      <th>Output</th>\n",
       "      <th>Encoder Input</th>\n",
       "      <th>Decoder Input</th>\n",
       "    </tr>\n",
       "  </thead>\n",
       "  <tbody>\n",
       "    <tr>\n",
       "      <th>0</th>\n",
       "      <td>a p p r e h e n s i v e</td>\n",
       "      <td>a p p r e h e n s i v e w a y</td>\n",
       "      <td>&lt;start&gt; a p p r e h e n s i v</td>\n",
       "    </tr>\n",
       "    <tr>\n",
       "      <th>1</th>\n",
       "      <td>d e s p e r a t e l y</td>\n",
       "      <td>e s p e r a t e l y d a y</td>\n",
       "      <td>&lt;start&gt; d e s p e r a t e l</td>\n",
       "    </tr>\n",
       "    <tr>\n",
       "      <th>2</th>\n",
       "      <td>g r e w</td>\n",
       "      <td>e w g r a y</td>\n",
       "      <td>&lt;start&gt; g r e</td>\n",
       "    </tr>\n",
       "    <tr>\n",
       "      <th>3</th>\n",
       "      <td>n i g g a r d l y</td>\n",
       "      <td>i g g a r d l y n a y</td>\n",
       "      <td>&lt;start&gt; n i g g a r d l</td>\n",
       "    </tr>\n",
       "    <tr>\n",
       "      <th>4</th>\n",
       "      <td>b r o u g h t</td>\n",
       "      <td>o u g h t b r a y</td>\n",
       "      <td>&lt;start&gt; b r o u g h</td>\n",
       "    </tr>\n",
       "  </tbody>\n",
       "</table>\n",
       "</div>"
      ],
      "text/plain": [
       "                    Output                  Encoder Input  \\\n",
       "0  a p p r e h e n s i v e  a p p r e h e n s i v e w a y   \n",
       "1    d e s p e r a t e l y      e s p e r a t e l y d a y   \n",
       "2                  g r e w                    e w g r a y   \n",
       "3        n i g g a r d l y          i g g a r d l y n a y   \n",
       "4            b r o u g h t              o u g h t b r a y   \n",
       "\n",
       "                    Decoder Input  \n",
       "0  <start> a p p r e h e n s i v   \n",
       "1    <start> d e s p e r a t e l   \n",
       "2                  <start> g r e   \n",
       "3        <start> n i g g a r d l   \n",
       "4            <start> b r o u g h   "
      ]
     },
     "execution_count": 61,
     "metadata": {},
     "output_type": "execute_result"
    }
   ],
   "source": [
    "df.columns = {\"Encoder Input\", \"Output\"}\n",
    "df[\"Decoder Input\"] = df[\"Output\"].apply(lambda x: \"<start> \"+x[:-1])\n",
    "df.head()"
   ]
  },
  {
   "cell_type": "code",
   "execution_count": 62,
   "id": "streaming-black",
   "metadata": {},
   "outputs": [],
   "source": [
    "train, test = train_test_split(df, test_size=0.2)"
   ]
  },
  {
   "cell_type": "code",
   "execution_count": 63,
   "id": "formal-harris",
   "metadata": {},
   "outputs": [],
   "source": [
    "vocab_list = ['a','b','c','d','e','f','g','h','i','j','k','l','m','n','o','p','q','r','s','t','u','v','w','x','y','z','\\'','-','*','<start>']\n",
    "# '1','2','3','4','5','6','7','8','9','0',\n",
    "vocab = defaultdict(lambda : 0)\n",
    "count = 1\n",
    "\n",
    "for i in vocab_list:\n",
    "    if vocab[i]==0:\n",
    "        vocab[i] = count\n",
    "        count += 1"
   ]
  },
  {
   "cell_type": "code",
   "execution_count": 74,
   "id": "challenging-demonstration",
   "metadata": {},
   "outputs": [],
   "source": [
    "X_train_encoder = [[vocab[char] for char in x.split() if vocab[char] != 0] for x in train[\"Encoder Input\"].values]\n",
    "X_train_decoder = [[vocab[char] for char in x.split() if vocab[char] != 0] for x in train[\"Decoder Input\"].values]\n",
    "Y_train = [[vocab[char] for char in x.split() if vocab[char] != 0] for x in train[\"Output\"].values]\n",
    "# print(Y_train)\n",
    "X_test_encoder = [[vocab[char] for char in x.split() if vocab[char] != 0] for x in test[\"Encoder Input\"].values]\n",
    "X_test_decoder = [[vocab[char] for char in x.split() if vocab[char] != 0] for x in test[\"Decoder Input\"].values]\n",
    "Y_test = [[vocab[char] for char in x.split() if vocab[char] != 0] for x in test[\"Output\"].values]\n"
   ]
  },
  {
   "cell_type": "code",
   "execution_count": 119,
   "id": "stylish-settlement",
   "metadata": {},
   "outputs": [
    {
     "name": "stdout",
     "output_type": "stream",
     "text": [
      "(5208, 80)\n"
     ]
    }
   ],
   "source": [
    "X_train_encoder = sequence.pad_sequences(X_train_encoder, maxlen=80)\n",
    "X_train_decoder = sequence.pad_sequences(X_train_decoder, maxlen=80)\n",
    "Y_train = sequence.pad_sequences(Y_train, maxlen=80)\n",
    "# print(Y_train)\n",
    "X_test_encoder = sequence.pad_sequences(X_test_encoder, maxlen=80)\n",
    "X_test_decoder = sequence.pad_sequences(X_test_decoder, maxlen=80)\n",
    "Y_test = sequence.pad_sequences(Y_test, maxlen=80)\n",
    "print(X_train_encoder.shape)"
   ]
  },
  {
   "cell_type": "code",
   "execution_count": 121,
   "id": "going-frank",
   "metadata": {},
   "outputs": [],
   "source": [
    "\n",
    "def Encoder(vocab_size=31,embedding_size=10,input_length=80):\n",
    "    encoder_inputs = Input(shape=(input_length,))\n",
    "    embedder = Embedding(vocab_size, embedding_size, input_length=input_length)\n",
    "    encoder_emb = embedder(encoder_inputs)\n",
    "    encoder = SimpleRNN(embedding_size, return_state=True, name = \"enc\")\n",
    "    encoder_outputs, encoder_last_state = encoder(encoder_emb)\n",
    "    return encoder_inputs, encoder_outputs, encoder_last_state\n",
    "\n",
    "def Decoder(encoder_last_state, vocab_size=31, embedding_size=10, input_length=80):\n",
    "    decoder_inputs = Input(shape=(input_length,))\n",
    "    embedder = Embedding(vocab_size, embedding_size, input_length=input_length)  \n",
    "    decoder_emb = embedder(decoder_inputs)  \n",
    "    decoder_rnn = SimpleRNN(embedding_size, return_sequences=True, return_state=True, name = \"dec\")\n",
    "    decoder_outputs, _ = decoder_rnn(decoder_emb, initial_state=encoder_last_state)\n",
    "    decoder_dense = Dense(vocab_size, activation=\"softmax\")\n",
    "    decoder_outputs = decoder_dense(decoder_outputs)\n",
    "    return decoder_inputs, decoder_outputs"
   ]
  },
  {
   "cell_type": "code",
   "execution_count": 104,
   "id": "blessed-father",
   "metadata": {},
   "outputs": [
    {
     "name": "stdout",
     "output_type": "stream",
     "text": [
      "<class 'numpy.ndarray'>\n",
      "Model: \"model_17\"\n",
      "__________________________________________________________________________________________________\n",
      "Layer (type)                    Output Shape         Param #     Connected to                     \n",
      "==================================================================================================\n",
      "input_39 (InputLayer)           [(None, 50)]         0                                            \n",
      "__________________________________________________________________________________________________\n",
      "input_40 (InputLayer)           [(None, 50)]         0                                            \n",
      "__________________________________________________________________________________________________\n",
      "embedding_38 (Embedding)        (None, 50, 10)       310         input_39[0][0]                   \n",
      "__________________________________________________________________________________________________\n",
      "embedding_39 (Embedding)        (None, 50, 10)       310         input_40[0][0]                   \n",
      "__________________________________________________________________________________________________\n",
      "enc (LSTM)                      [(None, 10), (None,  840         embedding_38[0][0]               \n",
      "__________________________________________________________________________________________________\n",
      "dec (LSTM)                      [(None, 50, 10), (No 840         embedding_39[0][0]               \n",
      "                                                                 enc[0][1]                        \n",
      "                                                                 enc[0][2]                        \n",
      "__________________________________________________________________________________________________\n",
      "dense_18 (Dense)                (None, 50, 31)       341         dec[0][0]                        \n",
      "==================================================================================================\n",
      "Total params: 2,641\n",
      "Trainable params: 2,641\n",
      "Non-trainable params: 0\n",
      "__________________________________________________________________________________________________\n",
      "None\n"
     ]
    },
    {
     "data": {
      "image/png": "[encoded data removed]",
      "text/plain": [
       "<IPython.core.display.Image object>"
      ]
     },
     "execution_count": 104,
     "metadata": {},
     "output_type": "execute_result"
    }
   ],
   "source": [
    "encoder_inputs, encoder_outputs, encoder_last_state = Encoder()\n",
    "decoder_inputs, decoder_outputs = Decoder(encoder_last_state)\n",
    "model = Model([encoder_inputs, decoder_inputs], decoder_outputs)\n",
    "print(type(Y_train))\n",
    "print(model.summary())\n",
    "plot_model(model, to_file=\"a.png\",show_shapes=True, show_dtype=True)"
   ]
  },
  {
   "cell_type": "code",
   "execution_count": 100,
   "metadata": {},
   "outputs": [
    {
     "data": {
      "text/plain": [
       "(5208, 50)"
      ]
     },
     "execution_count": 100,
     "metadata": {},
     "output_type": "execute_result"
    }
   ],
   "source": [
    "Y_train.shape"
   ]
  },
  {
   "cell_type": "code",
   "execution_count": 113,
   "metadata": {},
   "outputs": [],
   "source": [
    "model.compile(optimizer=\"adam\", loss=\"sparse_categorical_crossentropy\", metrics=[\"accuracy\"])"
   ]
  },
  {
   "cell_type": "code",
   "execution_count": 114,
   "metadata": {},
   "outputs": [
    {
     "data": {
      "text/plain": [
       "(1303, 50)"
      ]
     },
     "execution_count": 114,
     "metadata": {},
     "output_type": "execute_result"
    }
   ],
   "source": [
    "X_test_decoder.shape"
   ]
  },
  {
   "cell_type": "code",
   "execution_count": 122,
   "id": "former-municipality",
   "metadata": {},
   "outputs": [
    {
     "name": "stdout",
     "output_type": "stream",
     "text": [
      "Epoch 1/30\n",
      "326/326 [==============================] - 13s 40ms/step - loss: 0.2184 - accuracy: 0.9328 - val_loss: 0.2194 - val_accuracy: 0.9327\n",
      "Epoch 2/30\n",
      "326/326 [==============================] - 15s 46ms/step - loss: 0.2158 - accuracy: 0.9339 - val_loss: 0.2168 - val_accuracy: 0.9339\n",
      "Epoch 3/30\n",
      "326/326 [==============================] - 15s 45ms/step - loss: 0.2137 - accuracy: 0.9346 - val_loss: 0.2153 - val_accuracy: 0.9340\n",
      "Epoch 4/30\n",
      "326/326 [==============================] - 19s 57ms/step - loss: 0.2121 - accuracy: 0.9350 - val_loss: 0.2140 - val_accuracy: 0.9346\n",
      "Epoch 5/30\n",
      "326/326 [==============================] - 15s 47ms/step - loss: 0.2108 - accuracy: 0.9352 - val_loss: 0.2124 - val_accuracy: 0.9347\n",
      "Epoch 6/30\n",
      "326/326 [==============================] - 14s 43ms/step - loss: 0.2097 - accuracy: 0.9356 - val_loss: 0.2116 - val_accuracy: 0.9348\n",
      "Epoch 7/30\n",
      "326/326 [==============================] - 16s 48ms/step - loss: 0.2087 - accuracy: 0.9358 - val_loss: 0.2106 - val_accuracy: 0.9350\n",
      "Epoch 8/30\n",
      "326/326 [==============================] - 23s 69ms/step - loss: 0.2078 - accuracy: 0.9361 - val_loss: 0.2104 - val_accuracy: 0.9349\n",
      "Epoch 9/30\n",
      "326/326 [==============================] - 15s 46ms/step - loss: 0.2071 - accuracy: 0.9361 - val_loss: 0.2091 - val_accuracy: 0.9352\n",
      "Epoch 10/30\n",
      "326/326 [==============================] - 14s 43ms/step - loss: 0.2065 - accuracy: 0.9362 - val_loss: 0.2086 - val_accuracy: 0.9356\n",
      "Epoch 11/30\n",
      "326/326 [==============================] - 13s 41ms/step - loss: 0.2058 - accuracy: 0.9363 - val_loss: 0.2079 - val_accuracy: 0.9354\n",
      "Epoch 12/30\n",
      "326/326 [==============================] - 12s 38ms/step - loss: 0.2054 - accuracy: 0.9363 - val_loss: 0.2082 - val_accuracy: 0.9354\n",
      "Epoch 13/30\n",
      "326/326 [==============================] - 12s 38ms/step - loss: 0.2048 - accuracy: 0.9366 - val_loss: 0.2069 - val_accuracy: 0.9355\n",
      "Epoch 14/30\n",
      "326/326 [==============================] - 12s 38ms/step - loss: 0.2043 - accuracy: 0.9367 - val_loss: 0.2069 - val_accuracy: 0.9356\n",
      "Epoch 15/30\n",
      "326/326 [==============================] - 12s 38ms/step - loss: 0.2039 - accuracy: 0.9367 - val_loss: 0.2059 - val_accuracy: 0.9358\n",
      "Epoch 16/30\n",
      "326/326 [==============================] - 12s 38ms/step - loss: 0.2034 - accuracy: 0.9368 - val_loss: 0.2057 - val_accuracy: 0.9358\n",
      "Epoch 17/30\n",
      "326/326 [==============================] - 12s 38ms/step - loss: 0.2029 - accuracy: 0.9370 - val_loss: 0.2053 - val_accuracy: 0.9357\n",
      "Epoch 18/30\n",
      "326/326 [==============================] - 12s 38ms/step - loss: 0.2025 - accuracy: 0.9371 - val_loss: 0.2053 - val_accuracy: 0.9360\n",
      "Epoch 19/30\n",
      "326/326 [==============================] - 13s 40ms/step - loss: 0.2021 - accuracy: 0.9372 - val_loss: 0.2042 - val_accuracy: 0.9363\n",
      "Epoch 20/30\n",
      "326/326 [==============================] - 13s 39ms/step - loss: 0.2016 - accuracy: 0.9374 - val_loss: 0.2043 - val_accuracy: 0.9362\n",
      "Epoch 21/30\n",
      "326/326 [==============================] - 12s 38ms/step - loss: 0.2014 - accuracy: 0.9374 - val_loss: 0.2036 - val_accuracy: 0.9366\n",
      "Epoch 22/30\n",
      "326/326 [==============================] - 12s 38ms/step - loss: 0.2009 - accuracy: 0.9376 - val_loss: 0.2035 - val_accuracy: 0.9368\n",
      "Epoch 23/30\n",
      "326/326 [==============================] - 12s 38ms/step - loss: 0.2002 - accuracy: 0.9379 - val_loss: 0.2029 - val_accuracy: 0.9370\n",
      "Epoch 24/30\n",
      "326/326 [==============================] - 12s 38ms/step - loss: 0.1997 - accuracy: 0.9380 - val_loss: 0.2021 - val_accuracy: 0.9372\n",
      "Epoch 25/30\n",
      "326/326 [==============================] - 12s 38ms/step - loss: 0.1992 - accuracy: 0.9382 - val_loss: 0.2019 - val_accuracy: 0.9375\n",
      "Epoch 26/30\n",
      "326/326 [==============================] - 14s 42ms/step - loss: 0.1988 - accuracy: 0.9383 - val_loss: 0.2011 - val_accuracy: 0.9375\n",
      "Epoch 27/30\n",
      "326/326 [==============================] - 12s 38ms/step - loss: 0.1984 - accuracy: 0.9385 - val_loss: 0.2012 - val_accuracy: 0.9379\n",
      "Epoch 28/30\n",
      "326/326 [==============================] - 12s 38ms/step - loss: 0.1979 - accuracy: 0.9385 - val_loss: 0.2006 - val_accuracy: 0.9380\n",
      "Epoch 29/30\n",
      "326/326 [==============================] - 12s 38ms/step - loss: 0.1976 - accuracy: 0.9386 - val_loss: 0.2022 - val_accuracy: 0.9372\n",
      "Epoch 30/30\n",
      "326/326 [==============================] - 12s 38ms/step - loss: 0.1971 - accuracy: 0.9389 - val_loss: 0.1998 - val_accuracy: 0.9383\n"
     ]
    },
    {
     "data": {
      "text/plain": [
       "<keras.callbacks.History at 0x194267b0ca0>"
      ]
     },
     "execution_count": 122,
     "metadata": {},
     "output_type": "execute_result"
    }
   ],
   "source": [
    "model.fit([X_train_encoder, X_train_decoder], Y_train, batch_size=16, epochs=30, validation_data=([X_test_encoder, X_test_decoder], Y_test))"
   ]
  },
  {
   "cell_type": "code",
   "execution_count": 116,
   "metadata": {},
   "outputs": [],
   "source": [
    "y_pred = model.predict([X_test_encoder, X_test_decoder])"
   ]
  },
  {
   "cell_type": "markdown",
   "id": "nominated-welsh",
   "metadata": {},
   "source": [
    "4. If you input a very long sentence, do you have problem of translation this sentence? If so, what could be potentially the problem? Write down the answer. [2 Points]\n",
    "\n",
    "A - I believe that aa vanilla RNN architecture will perform increasingly poorly in long sequences. This is because the longer the sequence, the farther away the distance is between the encoder input and decoder output will be. This will create long-term dependencies that are difficult to handle. This in turn will result in the \"vanishing gradient\" problem whereby gradients in backpropagation are separated by so many steps that they end up vanishing to 0 (or sometimes exploding).\n",
    "\n",
    "5. What model or activation function can you use the improve long sentence translation? Implement such a model. [2 Points]\n",
    "\n",
    "A - One simple solution to use is to keep things stable (no exploding or vanishing gradients) by using gradient clipping. Gradient clipping ensures the gradient has a norm of at most 7. While the gradients will be biased. at least they won't blow up. We can also reverse the input sequence so that there is only one time step between the first unit of the input and the first unit of the output. Usually in English, and similarly in this particular Pig-Latin application, dependencies are between units in the same or close positions within the input and output sequence. Another approach would be to modify the architecture entirely by replacing the RNN units by LSTM units that contain memory cells which have controllers saying when to store or forget information."
   ]
  },
  {
   "cell_type": "code",
   "execution_count": 120,
   "id": "engaging-consumption",
   "metadata": {},
   "outputs": [
    {
     "name": "stdout",
     "output_type": "stream",
     "text": [
      "Epoch 1/30\n",
      "326/326 [==============================] - 14s 36ms/step - loss: 1.1654 - accuracy: 0.8714 - val_loss: 0.4026 - val_accuracy: 0.9081\n",
      "Epoch 2/30\n",
      "326/326 [==============================] - 11s 34ms/step - loss: 0.3471 - accuracy: 0.9150 - val_loss: 0.3245 - val_accuracy: 0.9166\n",
      "Epoch 3/30\n",
      "326/326 [==============================] - 11s 34ms/step - loss: 0.3082 - accuracy: 0.9184 - val_loss: 0.3018 - val_accuracy: 0.9172\n",
      "Epoch 4/30\n",
      "326/326 [==============================] - 12s 37ms/step - loss: 0.2917 - accuracy: 0.9184 - val_loss: 0.2892 - val_accuracy: 0.9172\n",
      "Epoch 5/30\n",
      "326/326 [==============================] - 12s 37ms/step - loss: 0.2813 - accuracy: 0.9184 - val_loss: 0.2798 - val_accuracy: 0.9174\n",
      "Epoch 6/30\n",
      "326/326 [==============================] - 12s 37ms/step - loss: 0.2725 - accuracy: 0.9205 - val_loss: 0.2713 - val_accuracy: 0.9227\n",
      "Epoch 7/30\n",
      "326/326 [==============================] - 12s 37ms/step - loss: 0.2650 - accuracy: 0.9241 - val_loss: 0.2646 - val_accuracy: 0.9232\n",
      "Epoch 8/30\n",
      "326/326 [==============================] - 12s 37ms/step - loss: 0.2596 - accuracy: 0.9240 - val_loss: 0.2601 - val_accuracy: 0.9232\n",
      "Epoch 9/30\n",
      "326/326 [==============================] - 12s 37ms/step - loss: 0.2560 - accuracy: 0.9241 - val_loss: 0.2570 - val_accuracy: 0.9232\n",
      "Epoch 10/30\n",
      "326/326 [==============================] - 12s 37ms/step - loss: 0.2532 - accuracy: 0.9246 - val_loss: 0.2542 - val_accuracy: 0.9233\n",
      "Epoch 11/30\n",
      "326/326 [==============================] - 13s 41ms/step - loss: 0.2504 - accuracy: 0.9257 - val_loss: 0.2514 - val_accuracy: 0.9251\n",
      "Epoch 12/30\n",
      "326/326 [==============================] - 12s 37ms/step - loss: 0.2477 - accuracy: 0.9261 - val_loss: 0.2487 - val_accuracy: 0.9253\n",
      "Epoch 13/30\n",
      "326/326 [==============================] - 12s 37ms/step - loss: 0.2453 - accuracy: 0.9263 - val_loss: 0.2464 - val_accuracy: 0.9250\n",
      "Epoch 14/30\n",
      "326/326 [==============================] - 12s 37ms/step - loss: 0.2432 - accuracy: 0.9261 - val_loss: 0.2444 - val_accuracy: 0.9254\n",
      "Epoch 15/30\n",
      "326/326 [==============================] - 12s 37ms/step - loss: 0.2415 - accuracy: 0.9266 - val_loss: 0.2428 - val_accuracy: 0.9252\n",
      "Epoch 16/30\n",
      "326/326 [==============================] - 12s 37ms/step - loss: 0.2400 - accuracy: 0.9269 - val_loss: 0.2411 - val_accuracy: 0.9265\n",
      "Epoch 17/30\n",
      "326/326 [==============================] - 12s 37ms/step - loss: 0.2385 - accuracy: 0.9277 - val_loss: 0.2397 - val_accuracy: 0.9269\n",
      "Epoch 18/30\n",
      "326/326 [==============================] - 12s 37ms/step - loss: 0.2371 - accuracy: 0.9279 - val_loss: 0.2385 - val_accuracy: 0.9272\n",
      "Epoch 19/30\n",
      "326/326 [==============================] - 12s 38ms/step - loss: 0.2358 - accuracy: 0.9282 - val_loss: 0.2373 - val_accuracy: 0.9271\n",
      "Epoch 20/30\n",
      "326/326 [==============================] - 12s 38ms/step - loss: 0.2348 - accuracy: 0.9284 - val_loss: 0.2363 - val_accuracy: 0.9273\n",
      "Epoch 21/30\n",
      "326/326 [==============================] - 12s 38ms/step - loss: 0.2338 - accuracy: 0.9283 - val_loss: 0.2354 - val_accuracy: 0.9273\n",
      "Epoch 22/30\n",
      "326/326 [==============================] - 13s 39ms/step - loss: 0.2329 - accuracy: 0.9285 - val_loss: 0.2345 - val_accuracy: 0.9275\n",
      "Epoch 23/30\n",
      "326/326 [==============================] - 14s 43ms/step - loss: 0.2320 - accuracy: 0.9287 - val_loss: 0.2337 - val_accuracy: 0.9276\n",
      "Epoch 24/30\n",
      "326/326 [==============================] - 13s 39ms/step - loss: 0.2311 - accuracy: 0.9288 - val_loss: 0.2327 - val_accuracy: 0.9282\n",
      "Epoch 25/30\n",
      "326/326 [==============================] - 13s 39ms/step - loss: 0.2302 - accuracy: 0.9291 - val_loss: 0.2319 - val_accuracy: 0.9285\n",
      "Epoch 26/30\n",
      "326/326 [==============================] - 13s 41ms/step - loss: 0.2292 - accuracy: 0.9296 - val_loss: 0.2306 - val_accuracy: 0.9291\n",
      "Epoch 27/30\n",
      "326/326 [==============================] - 13s 40ms/step - loss: 0.2273 - accuracy: 0.9300 - val_loss: 0.2286 - val_accuracy: 0.9301\n",
      "Epoch 28/30\n",
      "326/326 [==============================] - 13s 40ms/step - loss: 0.2252 - accuracy: 0.9308 - val_loss: 0.2270 - val_accuracy: 0.9305\n",
      "Epoch 29/30\n",
      "326/326 [==============================] - 13s 40ms/step - loss: 0.2233 - accuracy: 0.9315 - val_loss: 0.2247 - val_accuracy: 0.9311\n",
      "Epoch 30/30\n",
      "326/326 [==============================] - 13s 40ms/step - loss: 0.2211 - accuracy: 0.9321 - val_loss: 0.2222 - val_accuracy: 0.9318\n"
     ]
    }
   ],
   "source": [
    "\n",
    "def Encoder(vocab_size=31,embedding_size=10,input_length=80):\n",
    "    encoder_inputs = Input(shape=(input_length))\n",
    "    embedder = Embedding(vocab_size, embedding_size, input_length=input_length)\n",
    "    encoder_emb = embedder(encoder_inputs)\n",
    "    encoder = LSTM(embedding_size, return_state=True, name = \"enc\")\n",
    "    encoder_outputs, state_h, state_c = encoder(encoder_emb)\n",
    "    encoder_last_state = [state_h, state_c]\n",
    "    return encoder_inputs, encoder_outputs, encoder_last_state\n",
    "\n",
    "def Decoder(encoder_last_state, vocab_size=31, embedding_size=10, input_length=80):\n",
    "    decoder_inputs = Input(shape=(input_length))\n",
    "    embedder = Embedding(vocab_size, embedding_size, input_length=input_length)  \n",
    "    decoder_emb = embedder(decoder_inputs)  \n",
    "    decoder_lstm = LSTM(embedding_size, return_sequences=True, return_state=True, name = \"dec\")\n",
    "    decoder_outputs, _, _  = decoder_lstm(decoder_emb, initial_state=encoder_last_state)\n",
    "    decoder_dense = Dense(vocab_size, activation=\"softmax\")\n",
    "    decoder_outputs = decoder_dense(decoder_outputs)\n",
    "    return decoder_inputs, decoder_outputs\n",
    "\n",
    "encoder_inputs, encoder_outputs, encoder_last_state = Encoder()\n",
    "decoder_inputs, decoder_outputs = Decoder(encoder_last_state)\n",
    "model = Model([encoder_inputs, decoder_inputs], decoder_outputs)\n",
    "\n",
    "model.compile(optimizer=\"adam\", loss=\"sparse_categorical_crossentropy\", metrics=[\"accuracy\"])\n",
    "\n",
    "model.fit([X_train_encoder, X_train_decoder], Y_train, batch_size=16, epochs=30, validation_data=([X_test_encoder, X_test_decoder], Y_test))\n",
    "\n",
    "y_pred = model.predict([X_test_encoder, X_test_decoder])"
   ]
  },
  {
   "cell_type": "code",
   "execution_count": null,
   "metadata": {},
   "outputs": [],
   "source": []
  }
 ],
 "metadata": {
  "kernelspec": {
   "display_name": "Python 3",
   "language": "python",
   "name": "python3"
  },
  "language_info": {
   "codemirror_mode": {
    "name": "ipython",
    "version": 3
   },
   "file_extension": ".py",
   "mimetype": "text/x-python",
   "name": "python",
   "nbconvert_exporter": "python",
   "pygments_lexer": "ipython3",
   "version": "3.9.13 (tags/v3.9.13:6de2ca5, May 17 2022, 16:36:42) [MSC v.1929 64 bit (AMD64)]"
  },
  "vscode": {
   "interpreter": {
    "hash": "4776eb30a046ab6d0c3e65f56044d961f6878ebd8f8cbdf1a791b04d1d0b3d44"
   }
  }
 },
 "nbformat": 4,
 "nbformat_minor": 5
}
